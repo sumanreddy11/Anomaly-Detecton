{
  "nbformat": 4,
  "nbformat_minor": 0,
  "metadata": {
    "colab": {
      "provenance": [],
      "mount_file_id": "1Si1tmVbx5Secgk0RiYPIfyvyMum1UP9w",
      "authorship_tag": "ABX9TyPaVDW8/XIc0DnLkosLl73z",
      "include_colab_link": true
    },
    "kernelspec": {
      "name": "python3",
      "display_name": "Python 3"
    },
    "language_info": {
      "name": "python"
    }
  },
  "cells": [
    {
      "cell_type": "markdown",
      "metadata": {
        "id": "view-in-github",
        "colab_type": "text"
      },
      "source": [
        "<a href=\"https://colab.research.google.com/github/sumanreddy11/Anomaly-Detecton/blob/main/Anomaly_detection_version1.ipynb\" target=\"_parent\"><img src=\"https://colab.research.google.com/assets/colab-badge.svg\" alt=\"Open In Colab\"/></a>"
      ]
    },
    {
      "cell_type": "code",
      "execution_count": null,
      "metadata": {
        "id": "NeDoE3fh8n9V"
      },
      "outputs": [],
      "source": [
        "import pandas as pd \n",
        "import numpy as np\n",
        "\n",
        "import matplotlib.pyplot as plt\n",
        "%matplotlib inline\n",
        "\n",
        "import scipy\n",
        "from scipy.io.arff import loadarff\n",
        "from scipy.io import loadmat\n",
        "\n",
        "from sklearn.linear_model import LogisticRegression\n",
        "from sklearn.ensemble import RandomForestClassifier\n",
        "from sklearn.naive_bayes import GaussianNB\n",
        "\n",
        "from sklearn.metrics import classification_report\n",
        "from sklearn.model_selection import cross_val_predict\n",
        "\n",
        "import warnings\n",
        "warnings.filterwarnings('ignore')\n",
        "# This is to suppress any deprecation warnings \n",
        "\n",
        "import os\n",
        "import sys"
      ]
    },
    {
      "cell_type": "code",
      "source": [
        "# define parameters\n",
        "target_class_name = 'Class'\n",
        "\n",
        "labels = ['Not Fraud', 'Fraud']\n",
        "\n",
        "input_file_name = 'thyroid.mat'\n",
        "raw_data_folder = '/content/sample_data/'"
      ],
      "metadata": {
        "id": "jTSQaSB7meu0"
      },
      "execution_count": null,
      "outputs": []
    },
    {
      "cell_type": "code",
      "source": [
        "# load data \n",
        "dict = scipy.io.loadmat(raw_data_folder + input_file_name)\n",
        "print(dict)"
      ],
      "metadata": {
        "id": "38mB3kxy3BUA",
        "colab": {
          "base_uri": "https://localhost:8080/"
        },
        "outputId": "a912fe08-3ed4-4e5c-84b5-ab139f898c94"
      },
      "execution_count": null,
      "outputs": [
        {
          "output_type": "stream",
          "name": "stdout",
          "text": [
            "{'__header__': b'MATLAB 5.0 MAT-file, written by Octave 3.8.0, 2014-12-05 13:11:25 UTC', '__version__': '1.0', '__globals__': [], 'X': array([[7.74193548e-01, 1.13207547e-03, 1.37571157e-01, 2.75700935e-01,\n",
            "        2.95774648e-01, 2.36065574e-01],\n",
            "       [2.47311828e-01, 4.71698113e-04, 2.79886148e-01, 3.29439252e-01,\n",
            "        5.35211268e-01, 1.73770492e-01],\n",
            "       [4.94623656e-01, 3.58490566e-03, 2.22960152e-01, 2.33644860e-01,\n",
            "        5.25821596e-01, 1.24590164e-01],\n",
            "       ...,\n",
            "       [9.35483871e-01, 2.45283019e-02, 1.60341556e-01, 2.82710280e-01,\n",
            "        3.75586854e-01, 2.00000000e-01],\n",
            "       [6.77419355e-01, 1.47169811e-03, 1.90702087e-01, 2.42990654e-01,\n",
            "        3.23943662e-01, 1.95081967e-01],\n",
            "       [4.83870968e-01, 3.56603774e-03, 1.90702087e-01, 2.12616822e-01,\n",
            "        3.38028169e-01, 1.63934426e-01]]), 'y': array([[0.],\n",
            "       [0.],\n",
            "       [0.],\n",
            "       ...,\n",
            "       [0.],\n",
            "       [0.],\n",
            "       [0.]])}\n"
          ]
        }
      ]
    },
    {
      "cell_type": "code",
      "source": [
        "X_data = dict['X']\n",
        "print(X_data)"
      ],
      "metadata": {
        "colab": {
          "base_uri": "https://localhost:8080/"
        },
        "id": "604Vu5iq5DK9",
        "outputId": "e84d9dae-df97-43bf-d52a-f5d9f09c97ab"
      },
      "execution_count": null,
      "outputs": [
        {
          "output_type": "stream",
          "name": "stdout",
          "text": [
            "[[7.74193548e-01 1.13207547e-03 1.37571157e-01 2.75700935e-01\n",
            "  2.95774648e-01 2.36065574e-01]\n",
            " [2.47311828e-01 4.71698113e-04 2.79886148e-01 3.29439252e-01\n",
            "  5.35211268e-01 1.73770492e-01]\n",
            " [4.94623656e-01 3.58490566e-03 2.22960152e-01 2.33644860e-01\n",
            "  5.25821596e-01 1.24590164e-01]\n",
            " ...\n",
            " [9.35483871e-01 2.45283019e-02 1.60341556e-01 2.82710280e-01\n",
            "  3.75586854e-01 2.00000000e-01]\n",
            " [6.77419355e-01 1.47169811e-03 1.90702087e-01 2.42990654e-01\n",
            "  3.23943662e-01 1.95081967e-01]\n",
            " [4.83870968e-01 3.56603774e-03 1.90702087e-01 2.12616822e-01\n",
            "  3.38028169e-01 1.63934426e-01]]\n"
          ]
        }
      ]
    },
    {
      "cell_type": "code",
      "source": [
        "y_data = dict['y']\n",
        "print(y_data)"
      ],
      "metadata": {
        "colab": {
          "base_uri": "https://localhost:8080/"
        },
        "id": "1TWf1VbX5YGr",
        "outputId": "b0a39d28-70aa-4572-f53a-90aff912b89e"
      },
      "execution_count": null,
      "outputs": [
        {
          "output_type": "stream",
          "name": "stdout",
          "text": [
            "[[0.]\n",
            " [0.]\n",
            " [0.]\n",
            " ...\n",
            " [0.]\n",
            " [0.]\n",
            " [0.]]\n"
          ]
        }
      ]
    },
    {
      "cell_type": "code",
      "source": [
        "X_df = pd.DataFrame.from_dict(X_data)\n",
        "print(X_df)\n",
        "\n",
        "y_df = pd.DataFrame.from_dict(y_data)\n",
        "print(y_df)"
      ],
      "metadata": {
        "colab": {
          "base_uri": "https://localhost:8080/"
        },
        "id": "EYkT6V2g7422",
        "outputId": "cfe89b88-edde-4361-e66c-1f54a13777d4"
      },
      "execution_count": null,
      "outputs": [
        {
          "output_type": "stream",
          "name": "stdout",
          "text": [
            "             0         1         2         3         4         5\n",
            "0     0.774194  0.001132  0.137571  0.275701  0.295775  0.236066\n",
            "1     0.247312  0.000472  0.279886  0.329439  0.535211  0.173770\n",
            "2     0.494624  0.003585  0.222960  0.233645  0.525822  0.124590\n",
            "3     0.677419  0.001698  0.156546  0.175234  0.333333  0.136066\n",
            "4     0.236559  0.000472  0.241935  0.320093  0.333333  0.247541\n",
            "...        ...       ...       ...       ...       ...       ...\n",
            "3767  0.817204  0.000113  0.190702  0.287383  0.413146  0.188525\n",
            "3768  0.430108  0.002453  0.232448  0.287383  0.446009  0.175410\n",
            "3769  0.935484  0.024528  0.160342  0.282710  0.375587  0.200000\n",
            "3770  0.677419  0.001472  0.190702  0.242991  0.323944  0.195082\n",
            "3771  0.483871  0.003566  0.190702  0.212617  0.338028  0.163934\n",
            "\n",
            "[3772 rows x 6 columns]\n",
            "        0\n",
            "0     0.0\n",
            "1     0.0\n",
            "2     0.0\n",
            "3     0.0\n",
            "4     0.0\n",
            "...   ...\n",
            "3767  0.0\n",
            "3768  0.0\n",
            "3769  0.0\n",
            "3770  0.0\n",
            "3771  0.0\n",
            "\n",
            "[3772 rows x 1 columns]\n"
          ]
        }
      ]
    },
    {
      "cell_type": "code",
      "source": [
        "df = pd.concat([X_df, y_df], axis=1, join='inner')\n",
        "print(df)"
      ],
      "metadata": {
        "colab": {
          "base_uri": "https://localhost:8080/"
        },
        "id": "NNjObNi39X0F",
        "outputId": "f48dc18f-4014-413f-c098-05206527ec97"
      },
      "execution_count": null,
      "outputs": [
        {
          "output_type": "stream",
          "name": "stdout",
          "text": [
            "             0         1         2         3         4         5    0\n",
            "0     0.774194  0.001132  0.137571  0.275701  0.295775  0.236066  0.0\n",
            "1     0.247312  0.000472  0.279886  0.329439  0.535211  0.173770  0.0\n",
            "2     0.494624  0.003585  0.222960  0.233645  0.525822  0.124590  0.0\n",
            "3     0.677419  0.001698  0.156546  0.175234  0.333333  0.136066  0.0\n",
            "4     0.236559  0.000472  0.241935  0.320093  0.333333  0.247541  0.0\n",
            "...        ...       ...       ...       ...       ...       ...  ...\n",
            "3767  0.817204  0.000113  0.190702  0.287383  0.413146  0.188525  0.0\n",
            "3768  0.430108  0.002453  0.232448  0.287383  0.446009  0.175410  0.0\n",
            "3769  0.935484  0.024528  0.160342  0.282710  0.375587  0.200000  0.0\n",
            "3770  0.677419  0.001472  0.190702  0.242991  0.323944  0.195082  0.0\n",
            "3771  0.483871  0.003566  0.190702  0.212617  0.338028  0.163934  0.0\n",
            "\n",
            "[3772 rows x 7 columns]\n"
          ]
        }
      ]
    },
    {
      "cell_type": "code",
      "source": [
        "df.info()"
      ],
      "metadata": {
        "id": "0K4WjC9F-V5O",
        "colab": {
          "base_uri": "https://localhost:8080/"
        },
        "outputId": "4dc98990-6fb1-429c-8154-6e387c2b342b"
      },
      "execution_count": null,
      "outputs": [
        {
          "output_type": "stream",
          "name": "stdout",
          "text": [
            "<class 'pandas.core.frame.DataFrame'>\n",
            "RangeIndex: 3772 entries, 0 to 3771\n",
            "Data columns (total 7 columns):\n",
            " #   Column  Non-Null Count  Dtype  \n",
            "---  ------  --------------  -----  \n",
            " 0   0       3772 non-null   float64\n",
            " 1   1       3772 non-null   float64\n",
            " 2   2       3772 non-null   float64\n",
            " 3   3       3772 non-null   float64\n",
            " 4   4       3772 non-null   float64\n",
            " 5   5       3772 non-null   float64\n",
            " 6   0       3772 non-null   float64\n",
            "dtypes: float64(7)\n",
            "memory usage: 206.4 KB\n"
          ]
        }
      ]
    },
    {
      "cell_type": "code",
      "source": [
        "df.describe()"
      ],
      "metadata": {
        "colab": {
          "base_uri": "https://localhost:8080/",
          "height": 300
        },
        "id": "Hiy4v-0OoB4j",
        "outputId": "1ad64e4f-2c07-45d9-c5ce-e76d3f59bfb6"
      },
      "execution_count": null,
      "outputs": [
        {
          "output_type": "execute_result",
          "data": {
            "text/plain": [
              "                 0            1            2            3            4  \\\n",
              "count  3772.000000  3772.000000  3772.000000  3772.000000  3772.000000   \n",
              "mean      0.543121     0.008983     0.186826     0.248332     0.376941   \n",
              "std       0.203790     0.043978     0.070405     0.080579     0.087382   \n",
              "min       0.000000     0.000000     0.000000     0.000000     0.000000   \n",
              "25%       0.376344     0.001132     0.156546     0.203271     0.328638   \n",
              "50%       0.569892     0.003019     0.190702     0.241822     0.375587   \n",
              "75%       0.709677     0.004528     0.213472     0.282710     0.413146   \n",
              "max       1.000000     1.000000     1.000000     1.000000     1.000000   \n",
              "\n",
              "                 5            0  \n",
              "count  3772.000000  3772.000000  \n",
              "mean      0.177301     0.024655  \n",
              "std       0.054907     0.155093  \n",
              "min       0.000000     0.000000  \n",
              "25%       0.149180     0.000000  \n",
              "50%       0.173770     0.000000  \n",
              "75%       0.196721     0.000000  \n",
              "max       1.000000     1.000000  "
            ],
            "text/html": [
              "\n",
              "  <div id=\"df-8d10c065-a91a-445a-9047-451b67ae66b9\">\n",
              "    <div class=\"colab-df-container\">\n",
              "      <div>\n",
              "<style scoped>\n",
              "    .dataframe tbody tr th:only-of-type {\n",
              "        vertical-align: middle;\n",
              "    }\n",
              "\n",
              "    .dataframe tbody tr th {\n",
              "        vertical-align: top;\n",
              "    }\n",
              "\n",
              "    .dataframe thead th {\n",
              "        text-align: right;\n",
              "    }\n",
              "</style>\n",
              "<table border=\"1\" class=\"dataframe\">\n",
              "  <thead>\n",
              "    <tr style=\"text-align: right;\">\n",
              "      <th></th>\n",
              "      <th>0</th>\n",
              "      <th>1</th>\n",
              "      <th>2</th>\n",
              "      <th>3</th>\n",
              "      <th>4</th>\n",
              "      <th>5</th>\n",
              "      <th>0</th>\n",
              "    </tr>\n",
              "  </thead>\n",
              "  <tbody>\n",
              "    <tr>\n",
              "      <th>count</th>\n",
              "      <td>3772.000000</td>\n",
              "      <td>3772.000000</td>\n",
              "      <td>3772.000000</td>\n",
              "      <td>3772.000000</td>\n",
              "      <td>3772.000000</td>\n",
              "      <td>3772.000000</td>\n",
              "      <td>3772.000000</td>\n",
              "    </tr>\n",
              "    <tr>\n",
              "      <th>mean</th>\n",
              "      <td>0.543121</td>\n",
              "      <td>0.008983</td>\n",
              "      <td>0.186826</td>\n",
              "      <td>0.248332</td>\n",
              "      <td>0.376941</td>\n",
              "      <td>0.177301</td>\n",
              "      <td>0.024655</td>\n",
              "    </tr>\n",
              "    <tr>\n",
              "      <th>std</th>\n",
              "      <td>0.203790</td>\n",
              "      <td>0.043978</td>\n",
              "      <td>0.070405</td>\n",
              "      <td>0.080579</td>\n",
              "      <td>0.087382</td>\n",
              "      <td>0.054907</td>\n",
              "      <td>0.155093</td>\n",
              "    </tr>\n",
              "    <tr>\n",
              "      <th>min</th>\n",
              "      <td>0.000000</td>\n",
              "      <td>0.000000</td>\n",
              "      <td>0.000000</td>\n",
              "      <td>0.000000</td>\n",
              "      <td>0.000000</td>\n",
              "      <td>0.000000</td>\n",
              "      <td>0.000000</td>\n",
              "    </tr>\n",
              "    <tr>\n",
              "      <th>25%</th>\n",
              "      <td>0.376344</td>\n",
              "      <td>0.001132</td>\n",
              "      <td>0.156546</td>\n",
              "      <td>0.203271</td>\n",
              "      <td>0.328638</td>\n",
              "      <td>0.149180</td>\n",
              "      <td>0.000000</td>\n",
              "    </tr>\n",
              "    <tr>\n",
              "      <th>50%</th>\n",
              "      <td>0.569892</td>\n",
              "      <td>0.003019</td>\n",
              "      <td>0.190702</td>\n",
              "      <td>0.241822</td>\n",
              "      <td>0.375587</td>\n",
              "      <td>0.173770</td>\n",
              "      <td>0.000000</td>\n",
              "    </tr>\n",
              "    <tr>\n",
              "      <th>75%</th>\n",
              "      <td>0.709677</td>\n",
              "      <td>0.004528</td>\n",
              "      <td>0.213472</td>\n",
              "      <td>0.282710</td>\n",
              "      <td>0.413146</td>\n",
              "      <td>0.196721</td>\n",
              "      <td>0.000000</td>\n",
              "    </tr>\n",
              "    <tr>\n",
              "      <th>max</th>\n",
              "      <td>1.000000</td>\n",
              "      <td>1.000000</td>\n",
              "      <td>1.000000</td>\n",
              "      <td>1.000000</td>\n",
              "      <td>1.000000</td>\n",
              "      <td>1.000000</td>\n",
              "      <td>1.000000</td>\n",
              "    </tr>\n",
              "  </tbody>\n",
              "</table>\n",
              "</div>\n",
              "      <button class=\"colab-df-convert\" onclick=\"convertToInteractive('df-8d10c065-a91a-445a-9047-451b67ae66b9')\"\n",
              "              title=\"Convert this dataframe to an interactive table.\"\n",
              "              style=\"display:none;\">\n",
              "        \n",
              "  <svg xmlns=\"http://www.w3.org/2000/svg\" height=\"24px\"viewBox=\"0 0 24 24\"\n",
              "       width=\"24px\">\n",
              "    <path d=\"M0 0h24v24H0V0z\" fill=\"none\"/>\n",
              "    <path d=\"M18.56 5.44l.94 2.06.94-2.06 2.06-.94-2.06-.94-.94-2.06-.94 2.06-2.06.94zm-11 1L8.5 8.5l.94-2.06 2.06-.94-2.06-.94L8.5 2.5l-.94 2.06-2.06.94zm10 10l.94 2.06.94-2.06 2.06-.94-2.06-.94-.94-2.06-.94 2.06-2.06.94z\"/><path d=\"M17.41 7.96l-1.37-1.37c-.4-.4-.92-.59-1.43-.59-.52 0-1.04.2-1.43.59L10.3 9.45l-7.72 7.72c-.78.78-.78 2.05 0 2.83L4 21.41c.39.39.9.59 1.41.59.51 0 1.02-.2 1.41-.59l7.78-7.78 2.81-2.81c.8-.78.8-2.07 0-2.86zM5.41 20L4 18.59l7.72-7.72 1.47 1.35L5.41 20z\"/>\n",
              "  </svg>\n",
              "      </button>\n",
              "      \n",
              "  <style>\n",
              "    .colab-df-container {\n",
              "      display:flex;\n",
              "      flex-wrap:wrap;\n",
              "      gap: 12px;\n",
              "    }\n",
              "\n",
              "    .colab-df-convert {\n",
              "      background-color: #E8F0FE;\n",
              "      border: none;\n",
              "      border-radius: 50%;\n",
              "      cursor: pointer;\n",
              "      display: none;\n",
              "      fill: #1967D2;\n",
              "      height: 32px;\n",
              "      padding: 0 0 0 0;\n",
              "      width: 32px;\n",
              "    }\n",
              "\n",
              "    .colab-df-convert:hover {\n",
              "      background-color: #E2EBFA;\n",
              "      box-shadow: 0px 1px 2px rgba(60, 64, 67, 0.3), 0px 1px 3px 1px rgba(60, 64, 67, 0.15);\n",
              "      fill: #174EA6;\n",
              "    }\n",
              "\n",
              "    [theme=dark] .colab-df-convert {\n",
              "      background-color: #3B4455;\n",
              "      fill: #D2E3FC;\n",
              "    }\n",
              "\n",
              "    [theme=dark] .colab-df-convert:hover {\n",
              "      background-color: #434B5C;\n",
              "      box-shadow: 0px 1px 3px 1px rgba(0, 0, 0, 0.15);\n",
              "      filter: drop-shadow(0px 1px 2px rgba(0, 0, 0, 0.3));\n",
              "      fill: #FFFFFF;\n",
              "    }\n",
              "  </style>\n",
              "\n",
              "      <script>\n",
              "        const buttonEl =\n",
              "          document.querySelector('#df-8d10c065-a91a-445a-9047-451b67ae66b9 button.colab-df-convert');\n",
              "        buttonEl.style.display =\n",
              "          google.colab.kernel.accessAllowed ? 'block' : 'none';\n",
              "\n",
              "        async function convertToInteractive(key) {\n",
              "          const element = document.querySelector('#df-8d10c065-a91a-445a-9047-451b67ae66b9');\n",
              "          const dataTable =\n",
              "            await google.colab.kernel.invokeFunction('convertToInteractive',\n",
              "                                                     [key], {});\n",
              "          if (!dataTable) return;\n",
              "\n",
              "          const docLinkHtml = 'Like what you see? Visit the ' +\n",
              "            '<a target=\"_blank\" href=https://colab.research.google.com/notebooks/data_table.ipynb>data table notebook</a>'\n",
              "            + ' to learn more about interactive tables.';\n",
              "          element.innerHTML = '';\n",
              "          dataTable['output_type'] = 'display_data';\n",
              "          await google.colab.output.renderOutput(dataTable, element);\n",
              "          const docLink = document.createElement('div');\n",
              "          docLink.innerHTML = docLinkHtml;\n",
              "          element.appendChild(docLink);\n",
              "        }\n",
              "      </script>\n",
              "    </div>\n",
              "  </div>\n",
              "  "
            ]
          },
          "metadata": {},
          "execution_count": 15
        }
      ]
    },
    {
      "cell_type": "code",
      "source": [
        "# change column name\n",
        "df.columns.values[6] = '6'\n",
        "print(df)"
      ],
      "metadata": {
        "colab": {
          "base_uri": "https://localhost:8080/"
        },
        "id": "gnpUCDTCpMtI",
        "outputId": "6506ca77-d077-492c-e752-d3478cf634e2"
      },
      "execution_count": null,
      "outputs": [
        {
          "output_type": "stream",
          "name": "stdout",
          "text": [
            "             0         1         2         3         4         5    6\n",
            "0     0.774194  0.001132  0.137571  0.275701  0.295775  0.236066  0.0\n",
            "1     0.247312  0.000472  0.279886  0.329439  0.535211  0.173770  0.0\n",
            "2     0.494624  0.003585  0.222960  0.233645  0.525822  0.124590  0.0\n",
            "3     0.677419  0.001698  0.156546  0.175234  0.333333  0.136066  0.0\n",
            "4     0.236559  0.000472  0.241935  0.320093  0.333333  0.247541  0.0\n",
            "...        ...       ...       ...       ...       ...       ...  ...\n",
            "3767  0.817204  0.000113  0.190702  0.287383  0.413146  0.188525  0.0\n",
            "3768  0.430108  0.002453  0.232448  0.287383  0.446009  0.175410  0.0\n",
            "3769  0.935484  0.024528  0.160342  0.282710  0.375587  0.200000  0.0\n",
            "3770  0.677419  0.001472  0.190702  0.242991  0.323944  0.195082  0.0\n",
            "3771  0.483871  0.003566  0.190702  0.212617  0.338028  0.163934  0.0\n",
            "\n",
            "[3772 rows x 7 columns]\n"
          ]
        }
      ]
    },
    {
      "cell_type": "code",
      "source": [
        "# export to csv\n",
        "df.to_csv('/content/sample_data/thyroid.csv')"
      ],
      "metadata": {
        "id": "PCGBrQUuoddq"
      },
      "execution_count": null,
      "outputs": []
    },
    {
      "cell_type": "code",
      "source": [],
      "metadata": {
        "id": "hhmvYkdNp7ZB"
      },
      "execution_count": null,
      "outputs": []
    }
  ]
}